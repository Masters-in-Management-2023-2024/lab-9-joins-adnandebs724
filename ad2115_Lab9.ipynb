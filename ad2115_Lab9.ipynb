{
  "nbformat": 4,
  "nbformat_minor": 0,
  "metadata": {
    "colab": {
      "provenance": []
    },
    "kernelspec": {
      "name": "python3",
      "display_name": "Python 3"
    },
    "language_info": {
      "name": "python"
    }
  },
  "cells": [
    {
      "cell_type": "code",
      "execution_count": null,
      "metadata": {
        "id": "mh16OUmNVHF7"
      },
      "outputs": [],
      "source": [
        "# Import necessary packages\n",
        "import polars as pl"
      ]
    },
    {
      "cell_type": "code",
      "source": [
        "# Load the bike trips and weather data\n",
        "trips = pl.read_csv(\"https://raw.githubusercontent.com/philhetzel/opan5510-class9/refs/heads/main/data/bike_trips.csv\", null_values='NA')\n",
        "weather = pl.read_csv(\"https://raw.githubusercontent.com/philhetzel/opan5510-class9/refs/heads/main/data/bike_weather.csv\", null_values=['NA',''])\n",
        "\n",
        "trips = trips.with_columns(pl.col(\"date\").str.strptime(pl.Date, \"%Y-%m-%d\").alias(\"date\")) # ensure date column is typed correctly\n",
        "weather = weather.with_columns(pl.col(\"date\").str.strptime(pl.Date, \"%Y-%m-%d\").alias(\"date\")) # ensure date column is typed correctly\n",
        "print(trips.height)\n",
        "print(weather.height)"
      ],
      "metadata": {
        "colab": {
          "base_uri": "https://localhost:8080/"
        },
        "id": "zYgaoyKlVYBG",
        "outputId": "323d0408-6ec2-4f73-b062-aa8c1d0c40b9"
      },
      "execution_count": null,
      "outputs": [
        {
          "output_type": "stream",
          "name": "stdout",
          "text": [
            "78704\n",
            "733\n"
          ]
        }
      ]
    },
    {
      "cell_type": "code",
      "source": [
        "import polars as pl\n",
        "\n",
        "trips_weather = trips.join(weather, on=\"date\", how=\"inner\")\n",
        "\n",
        "weather_cols = set(trips_weather.columns)\n",
        "\n",
        "def rainy_expr():\n",
        "    if \"rain\" in weather_cols:\n",
        "        return pl.col(\"rain\").cast(pl.Boolean, strict=False).fill_null(False)\n",
        "\n",
        "    if \"events\" in weather_cols:\n",
        "        return pl.col(\"events\").cast(pl.Utf8, strict=False).str.contains(\"Rain\", literal=True, strict=False).fill_null(False)\n",
        "\n",
        "    for c in [\"precipitation\", \"precip\", \"prcp\"]:\n",
        "        if c in weather_cols:\n",
        "            return pl.col(c).cast(pl.Float64, strict=False).fill_null(0) > 0\n",
        "\n",
        "    return pl.lit(False)\n",
        "\n",
        "trips_weather = trips_weather.with_columns(rainy=rainy_expr())\n",
        "\n",
        "avg_duration_rain = (\n",
        "    trips_weather\n",
        "    .filter(pl.col(\"rainy\") == True)\n",
        "    .select(pl.col(\"duration\").cast(pl.Float64, strict=False))\n",
        "    .select(pl.col(\"duration\").mean().alias(\"avg_duration_rain\"))\n",
        ")\n",
        "\n",
        "avg_duration_rain"
      ],
      "metadata": {
        "colab": {
          "base_uri": "https://localhost:8080/",
          "height": 129
        },
        "id": "tIudulagWE5Q",
        "outputId": "b6b844a6-3a03-4418-b07d-e17a26f05953"
      },
      "execution_count": null,
      "outputs": [
        {
          "output_type": "execute_result",
          "data": {
            "text/plain": [
              "shape: (1, 1)\n",
              "┌───────────────────┐\n",
              "│ avg_duration_rain │\n",
              "│ ---               │\n",
              "│ f64               │\n",
              "╞═══════════════════╡\n",
              "│ 10.545472         │\n",
              "└───────────────────┘"
            ],
            "text/html": [
              "<div><style>\n",
              ".dataframe > thead > tr,\n",
              ".dataframe > tbody > tr {\n",
              "  text-align: right;\n",
              "  white-space: pre-wrap;\n",
              "}\n",
              "</style>\n",
              "<small>shape: (1, 1)</small><table border=\"1\" class=\"dataframe\"><thead><tr><th>avg_duration_rain</th></tr><tr><td>f64</td></tr></thead><tbody><tr><td>10.545472</td></tr></tbody></table></div>"
            ]
          },
          "metadata": {},
          "execution_count": 25
        }
      ]
    },
    {
      "cell_type": "code",
      "source": [
        "# Load baseball datasets\n",
        "Batting = pl.read_csv(\"https://raw.githubusercontent.com/philhetzel/opan5510-class9/refs/heads/main/data/Batting.csv\", null_values='NA')\n",
        "People = pl.read_csv(\"https://raw.githubusercontent.com/philhetzel/opan5510-class9/refs/heads/main/data/People.csv\", null_values='NA')\n",
        "HallOfFame = pl.read_csv(\"https://raw.githubusercontent.com/philhetzel/opan5510-class9/refs/heads/main/data/HallOfFame.csv\", null_values='NA')"
      ],
      "metadata": {
        "id": "NW0h9tPdXOSU"
      },
      "execution_count": null,
      "outputs": []
    },
    {
      "cell_type": "code",
      "source": [
        "import polars as pl\n",
        "\n",
        "people_cols = set(People.columns)\n",
        "\n",
        "if \"birthState\" in people_cols:\n",
        "    florida_filter = pl.col(\"birthState\").cast(pl.Utf8, strict=False).str.to_uppercase() == \"FL\"\n",
        "elif \"birth_state\" in people_cols:\n",
        "    florida_filter = pl.col(\"birth_state\").cast(pl.Utf8, strict=False).str.to_uppercase() == \"FL\"\n",
        "else:\n",
        "    alt_state_col = next((c for c in [\"state\", \"stateOfBirth\"] if c in people_cols), None)\n",
        "    florida_filter = pl.col(alt_state_col).cast(pl.Utf8, strict=False).str.to_uppercase().eq(\"FL\") if alt_state_col else pl.lit(False)\n",
        "\n",
        "batting_people = Batting.join(People, on=\"playerID\", how=\"inner\")\n",
        "\n",
        "total_hr_florida = (\n",
        "    batting_people\n",
        "    .filter(florida_filter)\n",
        "    .select(pl.col(\"HR\").cast(pl.Int64, strict=False).fill_null(0))\n",
        "    .select(pl.col(\"HR\").sum().alias(\"total_HR_players_born_in_FL\"))\n",
        ")\n",
        "\n",
        "total_hr_florida"
      ],
      "metadata": {
        "colab": {
          "base_uri": "https://localhost:8080/",
          "height": 129
        },
        "id": "VfW3CDB8XaLC",
        "outputId": "ddd9c2eb-608f-4bde-fa65-06fdb3e4c2f8"
      },
      "execution_count": null,
      "outputs": [
        {
          "output_type": "execute_result",
          "data": {
            "text/plain": [
              "shape: (1, 1)\n",
              "┌─────────────────────────────┐\n",
              "│ total_HR_players_born_in_FL │\n",
              "│ ---                         │\n",
              "│ i64                         │\n",
              "╞═════════════════════════════╡\n",
              "│ 16225                       │\n",
              "└─────────────────────────────┘"
            ],
            "text/html": [
              "<div><style>\n",
              ".dataframe > thead > tr,\n",
              ".dataframe > tbody > tr {\n",
              "  text-align: right;\n",
              "  white-space: pre-wrap;\n",
              "}\n",
              "</style>\n",
              "<small>shape: (1, 1)</small><table border=\"1\" class=\"dataframe\"><thead><tr><th>total_HR_players_born_in_FL</th></tr><tr><td>i64</td></tr></thead><tbody><tr><td>16225</td></tr></tbody></table></div>"
            ]
          },
          "metadata": {},
          "execution_count": 27
        }
      ]
    },
    {
      "cell_type": "code",
      "source": [
        "import polars as pl\n",
        "\n",
        "hall_inducted = (\n",
        "    HallOfFame\n",
        "    .with_columns(\n",
        "        inducted_txt = pl.col(\"inducted\").cast(pl.Utf8, strict=False).str.to_uppercase()\n",
        "    )\n",
        "    .with_columns(\n",
        "        is_inducted = (\n",
        "            (pl.col(\"inducted_txt\") == \"Y\") |\n",
        "            (pl.col(\"inducted_txt\") == \"YES\") |\n",
        "            (pl.col(\"inducted_txt\") == \"TRUE\") |\n",
        "            (pl.col(\"inducted_txt\") == \"T\") |\n",
        "            (pl.col(\"inducted_txt\") == \"1\")\n",
        "        )\n",
        "    )\n",
        "    .filter(pl.col(\"is_inducted\"))\n",
        "    .select(\"playerID\")\n",
        "    .unique()\n",
        ")\n",
        "\n",
        "career_hits = (\n",
        "    Batting\n",
        "    .join(hall_inducted, on=\"playerID\", how=\"inner\")\n",
        "    .group_by(\"playerID\")\n",
        "    .agg(total_hits = pl.col(\"H\").cast(pl.Int64, strict=False).fill_null(0).sum())\n",
        ")\n",
        "\n",
        "\n",
        "avg_career_hits_hof = career_hits.select(\n",
        "    pl.col(\"total_hits\").mean().alias(\"avg_career_hits_hall_of_famers\")\n",
        ")\n",
        "\n",
        "avg_career_hits_hof"
      ],
      "metadata": {
        "colab": {
          "base_uri": "https://localhost:8080/",
          "height": 129
        },
        "id": "E9vJDoDpXpBY",
        "outputId": "a031188c-72ea-4843-dbd6-fbdcfc7619de"
      },
      "execution_count": 30,
      "outputs": [
        {
          "output_type": "execute_result",
          "data": {
            "text/plain": [
              "shape: (1, 1)\n",
              "┌────────────────────────────────┐\n",
              "│ avg_career_hits_hall_of_famers │\n",
              "│ ---                            │\n",
              "│ f64                            │\n",
              "╞════════════════════════════════╡\n",
              "│ 1624.199262                    │\n",
              "└────────────────────────────────┘"
            ],
            "text/html": [
              "<div><style>\n",
              ".dataframe > thead > tr,\n",
              ".dataframe > tbody > tr {\n",
              "  text-align: right;\n",
              "  white-space: pre-wrap;\n",
              "}\n",
              "</style>\n",
              "<small>shape: (1, 1)</small><table border=\"1\" class=\"dataframe\"><thead><tr><th>avg_career_hits_hall_of_famers</th></tr><tr><td>f64</td></tr></thead><tbody><tr><td>1624.199262</td></tr></tbody></table></div>"
            ]
          },
          "metadata": {},
          "execution_count": 30
        }
      ]
    }
  ]
}